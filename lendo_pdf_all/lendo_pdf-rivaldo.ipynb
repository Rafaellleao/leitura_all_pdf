{
 "cells": [
  {
   "cell_type": "markdown",
   "id": "1cc5ac3d",
   "metadata": {},
   "source": [
    "### Importar Bibliotecas\n",
    "\n",
    "Nesta célula, importamos as bibliotecas necessárias para o projeto. São elas:\n",
    "\n",
    "- **PyPDF2:** Uma biblioteca para lidar com arquivos PDF no Python.\n",
    "- **pandas:** Uma poderosa biblioteca para manipulação e análise de dados.\n",
    "\n",
    "Vamos importá-las agora:"
   ]
  },
  {
   "cell_type": "code",
   "execution_count": 1,
   "id": "ae6bc141",
   "metadata": {},
   "outputs": [],
   "source": [
    "import os\n",
    "import PyPDF2\n",
    "import pandas as pd"
   ]
  },
  {
   "cell_type": "markdown",
   "id": "91f335e8",
   "metadata": {},
   "source": [
    "### Definir Caminho e Listar Arquivos\n",
    "\n",
    "Nesta célula, definimos um caminho para um diretório e listamos os arquivos contidos nesse diretório.\n"
   ]
  },
  {
   "cell_type": "code",
   "execution_count": 2,
   "id": "dece6d58",
   "metadata": {},
   "outputs": [],
   "source": [
    "caminho = f'C://Users/Rafael/arquivos_2024/janeiro/rivaldo/'\n",
    "arquivos = os.listdir(caminho)"
   ]
  },
  {
   "cell_type": "code",
   "execution_count": 3,
   "id": "790cac46",
   "metadata": {},
   "outputs": [
    {
     "data": {
      "text/plain": [
       "100"
      ]
     },
     "execution_count": 3,
     "metadata": {},
     "output_type": "execute_result"
    }
   ],
   "source": [
    "len(arquivos)"
   ]
  },
  {
   "cell_type": "markdown",
   "id": "2bc43f3f",
   "metadata": {},
   "source": [
    "### Imprimir Lista de Arquivos\n",
    "\n",
    "Nesta célula, imprimimos a lista de arquivos obtida anteriormente.\n"
   ]
  },
  {
   "cell_type": "code",
   "execution_count": 6,
   "id": "908a24a8",
   "metadata": {},
   "outputs": [
    {
     "name": "stdout",
     "output_type": "stream",
     "text": [
      "['ordens de placa 24.01.24.pdf', 'SNT2F26 DOC - MOB.pdf', 'SNU0A05 DOC - MOB.pdf', 'SNU1E44 DOC - MOB.pdf', 'SNU1E94 DOC - MOB.pdf', 'SNU1F44 DOC - MOB.pdf', 'SNU1G04 DOC - MOB.pdf', 'SNU1H04 DOC - MOB.pdf', 'SNU1J84 DOC - MOB.pdf', 'SNU2G12 DOC - MOB.pdf', 'SNU2G82 DOC - MOB.pdf', 'SNU2I42 DOC - MOB.pdf', 'SNU4B34 DOC - MOB.pdf', 'SNU4B44 DOC - MOB.pdf', 'SNU4B54 DOC - MOB.pdf', 'SNU6D85 DOC - CARLOS.pdf', 'SNU7D59 DOC - MOB (1).pdf', 'SNU7D59 DOC - MOB.pdf', 'SNU7D89 DOC - MOB.pdf', 'SNU7D99 DOC - MOB.pdf', 'SNU7E09 DOC - MOB (1).pdf', 'SNU7E09 DOC - MOB.pdf', 'SNU7H48  DOC - HIGOR (1).pdf', 'SNU7H48  DOC - HIGOR.pdf', 'SNU7H98 DOC - HIGOR (1).pdf', 'SNU7H98 DOC - HIGOR.pdf', 'SNU7J38 DOC - CHICO PIRES (1).pdf', 'SNU7J38 DOC - CHICO PIRES.pdf', 'SNU8D34 DOC - MOB.pdf', 'SNU8E68 DOC - MOB.pdf', 'SNU8G68 DOC - MOB (1).pdf', 'SNU8G68 DOC - MOB.pdf', 'SNU8H28 DOC - MOB (1).pdf', 'SNU8H28 DOC - MOB.pdf', 'SNU8H68 DOC - MOB (1).pdf', 'SNU8H68 DOC - MOB.pdf', 'SNU9D04 DOC - MOB.pdf', 'SNU9D84 DOC - MOB.pdf', 'SNU9F54 DOC - MOB.pdf', 'SNU9G24 DOC - MOB.pdf', 'SNU9G84 DOC - MOB.pdf', 'SNU9H19 DOC - MOB (1).pdf', 'SNU9H19 DOC - MOB.pdf', 'SNU9H39 DOC - MOB (1).pdf', 'SNU9H39 DOC - MOB.pdf', 'SNU9H59 DOC - MOB.pdf', 'SNU9H79 DOC - MOB.pdf', 'SNU9H99 DOC - MOB (1).pdf', 'SNU9H99 DOC - MOB.pdf', 'SNU9I39 DOC - MOB.pdf', 'SNU9I59 DOC - MOB (1).pdf', 'SNU9I59 DOC - MOB.pdf', 'SNU9I89 DOC - MOB (1).pdf', 'SNU9I89 DOC - MOB.pdf', 'SNU9J29 DOC - MOB (1).pdf', 'SNU9J29 DOC - MOB.pdf', 'SNV0E01 DOC - MOB.pdf', 'SNV0E11 DOC - MOB.pdf', 'SNV0E21 DOC - MOB,.pdf', 'SNV0F51 DOC - A CARLOS.pdf', 'SNV0J63 DOC - MOB.pdf', 'SNV1A13 DOC - MOB.pdf', 'SNV1A53 DOC - MOB.pdf', 'SNV1A63 DOC - MOB.pdf', 'SNV1C31 DOC - MOB.pdf', 'SNV1H70 DOC - MOB.pdf', 'SNV1J12 DOC - THIAGO.pdf', 'SNV2C70 DOC - CRAVINA.pdf', 'SNV4C42 DOC - MOB.pdf', 'SNV4D42 DOC - MOB.pdf', 'SNV4F22 DOC - AMG KAKA.pdf', 'SNV5A62 DOC - CRAVINA.pdf', 'SNV5I71 DOC - MOB (1).pdf', 'SNV5I71 DOC - MOB.pdf', 'SNV5J31 DOC - MOB (1).pdf', 'SNV5J31 DOC - MOB.pdf', 'SNV5J91 DOC - MOB (1).pdf', 'SNV5J91 DOC - MOB.pdf', 'SNV6B71 DOC - MOB (1).pdf', 'SNV6B71 DOC - MOB.pdf', 'SNV6C31 DOC - MOB.pdf', 'SNV6C61 DOC - MOB (1).pdf', 'SNV6C61 DOC - MOB.pdf', 'SNV6D11 DOC - MOB (1).pdf', 'SNV6D11 DOC - MOB.pdf', 'SNV6D61 DOC - MOB (1).pdf', 'SNV6D61 DOC - MOB.pdf', 'SNV6E91 DOC - MOOB.pdf', 'SNV9D21 DOC - TROPICAL.pdf', 'SNV9E31 DOC - TROPICAL.pdf', 'SNV9E81 DOC - TROPICAL.pdf', 'SNV9F61 DOC - TROPICAL.pdf', 'SNV9G21 DOC - TROPICAL.pdf', 'SNV9G91 DOC - TROPICAL.pdf', 'SNV9H21 DOC - TROPICAL.pdf', 'SNV9H61 DOC - TROPICAL.pdf', 'SNV9I21 DOC - TROPICAL.pdf', 'SNV9I61 DOC - TROPICAL.pdf', 'SNV9I70 DOC - PAULO.pdf', 'SNV9I91 DOC - TROPICAL.pdf']\n"
     ]
    }
   ],
   "source": [
    "print(arquivos)"
   ]
  },
  {
   "cell_type": "markdown",
   "id": "f46acadf",
   "metadata": {},
   "source": [
    "### Iterar sobre Arquivos PDF e Extrair Informações\n",
    "\n",
    "Nesta célula, iteramos sobre os arquivos PDF da lista `arquivos`, extraímos informações específicas de cada arquivo e as armazenamos em uma lista."
   ]
  },
  {
   "cell_type": "code",
   "execution_count": 7,
   "id": "8f2ec21c",
   "metadata": {},
   "outputs": [
    {
     "name": "stdout",
     "output_type": "stream",
     "text": [
      "ordens de placa 24.01.24.pdf not found\n"
     ]
    }
   ],
   "source": [
    "lista = []\n",
    "for arquivo in arquivos:\n",
    "    if  '.pdf' in arquivo:\n",
    "        try:\n",
    "            with open(caminho + arquivo, \"rb\") as doc:\n",
    "                pdf = PyPDF2.PdfReader(doc)\n",
    "                num_paginas = len(pdf.pages)\n",
    "                pagina = pdf.pages[0]\n",
    "                texto = pagina.extract_text()        \n",
    "                lista_texto = texto.upper().split('\\n')\n",
    "                placa, renavam = lista_texto[33][:7], lista_texto[36][:11]\n",
    "                quantidade_passageiro = lista_texto[43][-3:]\n",
    "                crv, cpfcnpj = lista_texto[35], lista_texto[46] \n",
    "                nome, data = lista_texto[45], lista_texto[47][-10:]\n",
    "                lista.append([data, placa, renavam , crv, cpfcnpj, nome, quantidade_passageiro])\n",
    "        except:\n",
    "            print(f\"{arquivo} not found\")"
   ]
  },
  {
   "cell_type": "code",
   "execution_count": 8,
   "id": "40f8356b",
   "metadata": {},
   "outputs": [
    {
     "data": {
      "text/plain": [
       "99"
      ]
     },
     "execution_count": 8,
     "metadata": {},
     "output_type": "execute_result"
    }
   ],
   "source": [
    "# tamanho da lista de 100 para 99 \n",
    "len(lista)"
   ]
  },
  {
   "cell_type": "markdown",
   "id": "84f93d0b",
   "metadata": {},
   "source": [
    "### Criar DataFrame e Calcular Valor Unitário\n",
    "\n",
    "Nesta célula, criamos um DataFrame do Pandas com base na lista de informações extraídas dos arquivos PDF. Além disso, calculamos o valor unitário com base na quantidade de passageiros."
   ]
  },
  {
   "cell_type": "code",
   "execution_count": 9,
   "id": "519c7adb",
   "metadata": {},
   "outputs": [
    {
     "data": {
      "text/html": [
       "<div>\n",
       "<style scoped>\n",
       "    .dataframe tbody tr th:only-of-type {\n",
       "        vertical-align: middle;\n",
       "    }\n",
       "\n",
       "    .dataframe tbody tr th {\n",
       "        vertical-align: top;\n",
       "    }\n",
       "\n",
       "    .dataframe thead th {\n",
       "        text-align: right;\n",
       "    }\n",
       "</style>\n",
       "<table border=\"1\" class=\"dataframe\">\n",
       "  <thead>\n",
       "    <tr style=\"text-align: right;\">\n",
       "      <th></th>\n",
       "      <th>data</th>\n",
       "      <th>placas</th>\n",
       "      <th>renavam</th>\n",
       "      <th>crv</th>\n",
       "      <th>cpfcnpj</th>\n",
       "      <th>nome</th>\n",
       "      <th>quantidade_passageiro</th>\n",
       "      <th>valor_unitario</th>\n",
       "    </tr>\n",
       "  </thead>\n",
       "  <tbody>\n",
       "    <tr>\n",
       "      <th>0</th>\n",
       "      <td>08/01/2024</td>\n",
       "      <td>SNT2F26</td>\n",
       "      <td>50386461315</td>\n",
       "      <td>243923856776</td>\n",
       "      <td>077.643.154-43</td>\n",
       "      <td>JACILENE MARIA DO NASCIMENTO</td>\n",
       "      <td>02P</td>\n",
       "      <td>60</td>\n",
       "    </tr>\n",
       "    <tr>\n",
       "      <th>1</th>\n",
       "      <td>09/01/2024</td>\n",
       "      <td>SNU0A05</td>\n",
       "      <td>83746981160</td>\n",
       "      <td>243925020560</td>\n",
       "      <td>095.202.174-95</td>\n",
       "      <td>LUANA SANTOS DE LIMA</td>\n",
       "      <td>02P</td>\n",
       "      <td>60</td>\n",
       "    </tr>\n",
       "    <tr>\n",
       "      <th>2</th>\n",
       "      <td>09/01/2024</td>\n",
       "      <td>SNU1E44</td>\n",
       "      <td>00031569863</td>\n",
       "      <td>243925016040</td>\n",
       "      <td>121.095.934-82</td>\n",
       "      <td>VINICIUS DE OLIVEIRA HONORATO</td>\n",
       "      <td>02P</td>\n",
       "      <td>60</td>\n",
       "    </tr>\n",
       "    <tr>\n",
       "      <th>3</th>\n",
       "      <td>08/01/2024</td>\n",
       "      <td>SNU1E94</td>\n",
       "      <td>89470868826</td>\n",
       "      <td>243923873336</td>\n",
       "      <td>061.186.374-07</td>\n",
       "      <td>EDANIEL RAMOS DA SILVA</td>\n",
       "      <td>02P</td>\n",
       "      <td>60</td>\n",
       "    </tr>\n",
       "    <tr>\n",
       "      <th>4</th>\n",
       "      <td>08/01/2024</td>\n",
       "      <td>SNU1F44</td>\n",
       "      <td>88686415146</td>\n",
       "      <td>243923873760</td>\n",
       "      <td>582.605.794-72</td>\n",
       "      <td>VERA LUCIA DA SILVA FERREIRA</td>\n",
       "      <td>02P</td>\n",
       "      <td>60</td>\n",
       "    </tr>\n",
       "    <tr>\n",
       "      <th>...</th>\n",
       "      <td>...</td>\n",
       "      <td>...</td>\n",
       "      <td>...</td>\n",
       "      <td>...</td>\n",
       "      <td>...</td>\n",
       "      <td>...</td>\n",
       "      <td>...</td>\n",
       "      <td>...</td>\n",
       "    </tr>\n",
       "    <tr>\n",
       "      <th>94</th>\n",
       "      <td>25/01/2024</td>\n",
       "      <td>SNV9H61</td>\n",
       "      <td>65151187285</td>\n",
       "      <td>243938045817</td>\n",
       "      <td>15.098.203/0001-30</td>\n",
       "      <td>TROPICAL ADMINISTRACAO E LOCACAO LTDA</td>\n",
       "      <td>02P</td>\n",
       "      <td>60</td>\n",
       "    </tr>\n",
       "    <tr>\n",
       "      <th>95</th>\n",
       "      <td>25/01/2024</td>\n",
       "      <td>SNV9I21</td>\n",
       "      <td>54636511813</td>\n",
       "      <td>243938046694</td>\n",
       "      <td>15.098.203/0001-30</td>\n",
       "      <td>TROPICAL ADMINISTRACAO E LOCACAO LTDA</td>\n",
       "      <td>02P</td>\n",
       "      <td>60</td>\n",
       "    </tr>\n",
       "    <tr>\n",
       "      <th>96</th>\n",
       "      <td>25/01/2024</td>\n",
       "      <td>SNV9I61</td>\n",
       "      <td>34872000649</td>\n",
       "      <td>243938047992</td>\n",
       "      <td>15.098.203/0001-30</td>\n",
       "      <td>TROPICAL ADMINISTRACAO E LOCACAO LTDA</td>\n",
       "      <td>02P</td>\n",
       "      <td>60</td>\n",
       "    </tr>\n",
       "    <tr>\n",
       "      <th>97</th>\n",
       "      <td>25/01/2024</td>\n",
       "      <td>SNV9I70</td>\n",
       "      <td>72688903316</td>\n",
       "      <td>243938162058</td>\n",
       "      <td>108.725.394-23</td>\n",
       "      <td>PAULO VINICIOS LINS DOS SANTOS</td>\n",
       "      <td>05P</td>\n",
       "      <td>90</td>\n",
       "    </tr>\n",
       "    <tr>\n",
       "      <th>98</th>\n",
       "      <td>25/01/2024</td>\n",
       "      <td>SNV9I91</td>\n",
       "      <td>18684194598</td>\n",
       "      <td>243938048824</td>\n",
       "      <td>15.098.203/0001-30</td>\n",
       "      <td>TROPICAL ADMINISTRACAO E LOCACAO LTDA</td>\n",
       "      <td>02P</td>\n",
       "      <td>60</td>\n",
       "    </tr>\n",
       "  </tbody>\n",
       "</table>\n",
       "<p>99 rows × 8 columns</p>\n",
       "</div>"
      ],
      "text/plain": [
       "          data   placas      renavam           crv             cpfcnpj  \\\n",
       "0   08/01/2024  SNT2F26  50386461315  243923856776      077.643.154-43   \n",
       "1   09/01/2024  SNU0A05  83746981160  243925020560      095.202.174-95   \n",
       "2   09/01/2024  SNU1E44  00031569863  243925016040      121.095.934-82   \n",
       "3   08/01/2024  SNU1E94  89470868826  243923873336      061.186.374-07   \n",
       "4   08/01/2024  SNU1F44  88686415146  243923873760      582.605.794-72   \n",
       "..         ...      ...          ...           ...                 ...   \n",
       "94  25/01/2024  SNV9H61  65151187285  243938045817  15.098.203/0001-30   \n",
       "95  25/01/2024  SNV9I21  54636511813  243938046694  15.098.203/0001-30   \n",
       "96  25/01/2024  SNV9I61  34872000649  243938047992  15.098.203/0001-30   \n",
       "97  25/01/2024  SNV9I70  72688903316  243938162058      108.725.394-23   \n",
       "98  25/01/2024  SNV9I91  18684194598  243938048824  15.098.203/0001-30   \n",
       "\n",
       "                                     nome quantidade_passageiro  \\\n",
       "0            JACILENE MARIA DO NASCIMENTO                   02P   \n",
       "1                    LUANA SANTOS DE LIMA                   02P   \n",
       "2           VINICIUS DE OLIVEIRA HONORATO                   02P   \n",
       "3                  EDANIEL RAMOS DA SILVA                   02P   \n",
       "4            VERA LUCIA DA SILVA FERREIRA                   02P   \n",
       "..                                    ...                   ...   \n",
       "94  TROPICAL ADMINISTRACAO E LOCACAO LTDA                   02P   \n",
       "95  TROPICAL ADMINISTRACAO E LOCACAO LTDA                   02P   \n",
       "96  TROPICAL ADMINISTRACAO E LOCACAO LTDA                   02P   \n",
       "97         PAULO VINICIOS LINS DOS SANTOS                   05P   \n",
       "98  TROPICAL ADMINISTRACAO E LOCACAO LTDA                   02P   \n",
       "\n",
       "    valor_unitario  \n",
       "0               60  \n",
       "1               60  \n",
       "2               60  \n",
       "3               60  \n",
       "4               60  \n",
       "..             ...  \n",
       "94              60  \n",
       "95              60  \n",
       "96              60  \n",
       "97              90  \n",
       "98              60  \n",
       "\n",
       "[99 rows x 8 columns]"
      ]
     },
     "metadata": {},
     "output_type": "display_data"
    }
   ],
   "source": [
    "tabela_rivaldo = pd.DataFrame(lista, columns=['data', 'placas', 'renavam' , 'crv', 'cpfcnpj', 'nome', 'quantidade_passageiro'])\n",
    "tabela_rivaldo['valor_unitario'] = tabela_rivaldo['quantidade_passageiro'].apply(lambda x: 60 if \"02P\" in x else 90 ) #pd.to_numeric(\"60.00\")\n",
    "\n",
    "display(tabela_rivaldo)"
   ]
  },
  {
   "cell_type": "code",
   "execution_count": 10,
   "id": "0b479f13",
   "metadata": {},
   "outputs": [
    {
     "data": {
      "text/html": [
       "<div>\n",
       "<style scoped>\n",
       "    .dataframe tbody tr th:only-of-type {\n",
       "        vertical-align: middle;\n",
       "    }\n",
       "\n",
       "    .dataframe tbody tr th {\n",
       "        vertical-align: top;\n",
       "    }\n",
       "\n",
       "    .dataframe thead th {\n",
       "        text-align: right;\n",
       "    }\n",
       "</style>\n",
       "<table border=\"1\" class=\"dataframe\">\n",
       "  <thead>\n",
       "    <tr style=\"text-align: right;\">\n",
       "      <th></th>\n",
       "      <th>data</th>\n",
       "      <th>placas</th>\n",
       "      <th>renavam</th>\n",
       "      <th>crv</th>\n",
       "      <th>cpfcnpj</th>\n",
       "      <th>nome</th>\n",
       "      <th>quantidade_passageiro</th>\n",
       "      <th>valor_unitario</th>\n",
       "    </tr>\n",
       "  </thead>\n",
       "  <tbody>\n",
       "    <tr>\n",
       "      <th>25</th>\n",
       "      <td>19/01/2024</td>\n",
       "      <td>SNU7J38</td>\n",
       "      <td>91292369424</td>\n",
       "      <td>243933439396</td>\n",
       "      <td>490.871.934-91</td>\n",
       "      <td>NADJANE SIMONE ALBERT</td>\n",
       "      <td>05P</td>\n",
       "      <td>90</td>\n",
       "    </tr>\n",
       "    <tr>\n",
       "      <th>26</th>\n",
       "      <td>19/01/2024</td>\n",
       "      <td>SNU7J38</td>\n",
       "      <td>91292369424</td>\n",
       "      <td>243933439396</td>\n",
       "      <td>490.871.934-91</td>\n",
       "      <td>NADJANE SIMONE ALBERT</td>\n",
       "      <td>05P</td>\n",
       "      <td>90</td>\n",
       "    </tr>\n",
       "    <tr>\n",
       "      <th>58</th>\n",
       "      <td>26/01/2024</td>\n",
       "      <td>SNV0F51</td>\n",
       "      <td>47571550753</td>\n",
       "      <td>243939003808</td>\n",
       "      <td>256.124.257-91</td>\n",
       "      <td>ANTONIO CARLOS PINTO DA ROCHA RODRIGUES</td>\n",
       "      <td>05P</td>\n",
       "      <td>90</td>\n",
       "    </tr>\n",
       "    <tr>\n",
       "      <th>97</th>\n",
       "      <td>25/01/2024</td>\n",
       "      <td>SNV9I70</td>\n",
       "      <td>72688903316</td>\n",
       "      <td>243938162058</td>\n",
       "      <td>108.725.394-23</td>\n",
       "      <td>PAULO VINICIOS LINS DOS SANTOS</td>\n",
       "      <td>05P</td>\n",
       "      <td>90</td>\n",
       "    </tr>\n",
       "  </tbody>\n",
       "</table>\n",
       "</div>"
      ],
      "text/plain": [
       "          data   placas      renavam           crv         cpfcnpj  \\\n",
       "25  19/01/2024  SNU7J38  91292369424  243933439396  490.871.934-91   \n",
       "26  19/01/2024  SNU7J38  91292369424  243933439396  490.871.934-91   \n",
       "58  26/01/2024  SNV0F51  47571550753  243939003808  256.124.257-91   \n",
       "97  25/01/2024  SNV9I70  72688903316  243938162058  108.725.394-23   \n",
       "\n",
       "                                       nome quantidade_passageiro  \\\n",
       "25                    NADJANE SIMONE ALBERT                   05P   \n",
       "26                    NADJANE SIMONE ALBERT                   05P   \n",
       "58  ANTONIO CARLOS PINTO DA ROCHA RODRIGUES                   05P   \n",
       "97           PAULO VINICIOS LINS DOS SANTOS                   05P   \n",
       "\n",
       "    valor_unitario  \n",
       "25              90  \n",
       "26              90  \n",
       "58              90  \n",
       "97              90  "
      ]
     },
     "metadata": {},
     "output_type": "display_data"
    }
   ],
   "source": [
    "# Filtrar Carros com Valor Unitário de 90\n",
    "# Nesta célula, filtramos o DataFrame `tabela_rivaldo` para incluir apenas os registros onde\n",
    "# o valor unitário é igual a 90 e exibimos o DataFrame resultante.\n",
    "\n",
    "carros = tabela_rivaldo[tabela_rivaldo['valor_unitario'] == 90]\n",
    "display(carros)"
   ]
  },
  {
   "cell_type": "code",
   "execution_count": 11,
   "id": "c3c4b825",
   "metadata": {},
   "outputs": [
    {
     "data": {
      "text/plain": [
       "6060"
      ]
     },
     "execution_count": 11,
     "metadata": {},
     "output_type": "execute_result"
    }
   ],
   "source": [
    "# Somando total da coluna 'valor_unitario' antes de tirar a duplicidade da coluna de 'placas'\n",
    "tabela_rivaldo.valor_unitario.sum()"
   ]
  },
  {
   "cell_type": "code",
   "execution_count": 12,
   "id": "02318a4c",
   "metadata": {},
   "outputs": [
    {
     "name": "stdout",
     "output_type": "stream",
     "text": [
      "<class 'pandas.core.frame.DataFrame'>\n",
      "RangeIndex: 99 entries, 0 to 98\n",
      "Data columns (total 8 columns):\n",
      " #   Column                 Non-Null Count  Dtype \n",
      "---  ------                 --------------  ----- \n",
      " 0   data                   99 non-null     object\n",
      " 1   placas                 99 non-null     object\n",
      " 2   renavam                99 non-null     object\n",
      " 3   crv                    99 non-null     object\n",
      " 4   cpfcnpj                99 non-null     object\n",
      " 5   nome                   99 non-null     object\n",
      " 6   quantidade_passageiro  99 non-null     object\n",
      " 7   valor_unitario         99 non-null     int64 \n",
      "dtypes: int64(1), object(7)\n",
      "memory usage: 6.3+ KB\n"
     ]
    }
   ],
   "source": [
    "# informaçoes da tabela antes de tirar a duplicidade\n",
    "tabela_rivaldo.info()"
   ]
  },
  {
   "cell_type": "code",
   "execution_count": 13,
   "id": "b4940ade",
   "metadata": {},
   "outputs": [
    {
     "data": {
      "text/plain": [
       "(99, 8)"
      ]
     },
     "execution_count": 13,
     "metadata": {},
     "output_type": "execute_result"
    }
   ],
   "source": [
    "# tamanho da tabela antes de tirar a duplicidade\n",
    "tabela_rivaldo.shape"
   ]
  },
  {
   "cell_type": "code",
   "execution_count": 14,
   "id": "326008dd",
   "metadata": {},
   "outputs": [],
   "source": [
    "# Verificar Linhas Duplicadas\n",
    "# Nesta célula, verificamos se há linhas duplicadas no DataFrame `tabela_rivaldo`.\n",
    "duplicada = tabela_rivaldo.duplicated()"
   ]
  },
  {
   "cell_type": "code",
   "execution_count": 15,
   "id": "d9acb58a",
   "metadata": {},
   "outputs": [
    {
     "data": {
      "text/plain": [
       "False    78\n",
       "True     21\n",
       "Name: count, dtype: int64"
      ]
     },
     "execution_count": 15,
     "metadata": {},
     "output_type": "execute_result"
    }
   ],
   "source": [
    "# Contar Linhas Duplicadas e Não Duplicadas\n",
    "# Nesta célula, contamos o número de linhas duplicadas e não duplicadas no DataFrame `tabela_rivaldo`.\n",
    "duplicada.value_counts()"
   ]
  },
  {
   "cell_type": "code",
   "execution_count": 16,
   "id": "5b6d3cb1",
   "metadata": {},
   "outputs": [
    {
     "name": "stdout",
     "output_type": "stream",
     "text": [
      "Index([15, 16, 19, 20, 21, 22, 23, 24, 25, 26, 29, 30, 31, 32, 33, 34, 40, 41,\n",
      "       42, 43, 46, 47, 49, 50, 51, 52, 53, 54, 71, 72, 73, 74, 75, 76, 77, 78,\n",
      "       80, 81, 82, 83, 84, 85],\n",
      "      dtype='int64')\n"
     ]
    },
    {
     "data": {
      "text/html": [
       "<div>\n",
       "<style scoped>\n",
       "    .dataframe tbody tr th:only-of-type {\n",
       "        vertical-align: middle;\n",
       "    }\n",
       "\n",
       "    .dataframe tbody tr th {\n",
       "        vertical-align: top;\n",
       "    }\n",
       "\n",
       "    .dataframe thead th {\n",
       "        text-align: right;\n",
       "    }\n",
       "</style>\n",
       "<table border=\"1\" class=\"dataframe\">\n",
       "  <thead>\n",
       "    <tr style=\"text-align: right;\">\n",
       "      <th></th>\n",
       "      <th>data</th>\n",
       "      <th>placas</th>\n",
       "      <th>renavam</th>\n",
       "      <th>crv</th>\n",
       "      <th>cpfcnpj</th>\n",
       "      <th>nome</th>\n",
       "      <th>quantidade_passageiro</th>\n",
       "      <th>valor_unitario</th>\n",
       "    </tr>\n",
       "  </thead>\n",
       "  <tbody>\n",
       "    <tr>\n",
       "      <th>15</th>\n",
       "      <td>22/01/2024</td>\n",
       "      <td>SNU7D59</td>\n",
       "      <td>45086675440</td>\n",
       "      <td>243934900496</td>\n",
       "      <td>046.588.054-13</td>\n",
       "      <td>GILMAR CARDOSO DE ARANTES</td>\n",
       "      <td>02P</td>\n",
       "      <td>60</td>\n",
       "    </tr>\n",
       "    <tr>\n",
       "      <th>16</th>\n",
       "      <td>22/01/2024</td>\n",
       "      <td>SNU7D59</td>\n",
       "      <td>45086675440</td>\n",
       "      <td>243934900496</td>\n",
       "      <td>046.588.054-13</td>\n",
       "      <td>GILMAR CARDOSO DE ARANTES</td>\n",
       "      <td>02P</td>\n",
       "      <td>60</td>\n",
       "    </tr>\n",
       "    <tr>\n",
       "      <th>19</th>\n",
       "      <td>22/01/2024</td>\n",
       "      <td>SNU7E09</td>\n",
       "      <td>61422726388</td>\n",
       "      <td>243934970494</td>\n",
       "      <td>012.297.994-00</td>\n",
       "      <td>NATANAEL BARNABE DA SILVA NETO</td>\n",
       "      <td>02P</td>\n",
       "      <td>60</td>\n",
       "    </tr>\n",
       "    <tr>\n",
       "      <th>20</th>\n",
       "      <td>22/01/2024</td>\n",
       "      <td>SNU7E09</td>\n",
       "      <td>61422726388</td>\n",
       "      <td>243934970494</td>\n",
       "      <td>012.297.994-00</td>\n",
       "      <td>NATANAEL BARNABE DA SILVA NETO</td>\n",
       "      <td>02P</td>\n",
       "      <td>60</td>\n",
       "    </tr>\n",
       "    <tr>\n",
       "      <th>21</th>\n",
       "      <td>19/01/2024</td>\n",
       "      <td>SNU7H48</td>\n",
       "      <td>09142101460</td>\n",
       "      <td>243933436338</td>\n",
       "      <td>066.253.524-38</td>\n",
       "      <td>DANIELE DE FATIMA DE ALMEIDA AGUIAR</td>\n",
       "      <td>02P</td>\n",
       "      <td>60</td>\n",
       "    </tr>\n",
       "    <tr>\n",
       "      <th>22</th>\n",
       "      <td>19/01/2024</td>\n",
       "      <td>SNU7H48</td>\n",
       "      <td>09142101460</td>\n",
       "      <td>243933436338</td>\n",
       "      <td>066.253.524-38</td>\n",
       "      <td>DANIELE DE FATIMA DE ALMEIDA AGUIAR</td>\n",
       "      <td>02P</td>\n",
       "      <td>60</td>\n",
       "    </tr>\n",
       "    <tr>\n",
       "      <th>23</th>\n",
       "      <td>19/01/2024</td>\n",
       "      <td>SNU7H98</td>\n",
       "      <td>61540160675</td>\n",
       "      <td>243933438233</td>\n",
       "      <td>976.538.294-49</td>\n",
       "      <td>WILSON MEDEIROS E SILVA</td>\n",
       "      <td>02P</td>\n",
       "      <td>60</td>\n",
       "    </tr>\n",
       "    <tr>\n",
       "      <th>24</th>\n",
       "      <td>19/01/2024</td>\n",
       "      <td>SNU7H98</td>\n",
       "      <td>61540160675</td>\n",
       "      <td>243933438233</td>\n",
       "      <td>976.538.294-49</td>\n",
       "      <td>WILSON MEDEIROS E SILVA</td>\n",
       "      <td>02P</td>\n",
       "      <td>60</td>\n",
       "    </tr>\n",
       "  </tbody>\n",
       "</table>\n",
       "</div>"
      ],
      "text/plain": [
       "          data   placas      renavam           crv         cpfcnpj  \\\n",
       "15  22/01/2024  SNU7D59  45086675440  243934900496  046.588.054-13   \n",
       "16  22/01/2024  SNU7D59  45086675440  243934900496  046.588.054-13   \n",
       "19  22/01/2024  SNU7E09  61422726388  243934970494  012.297.994-00   \n",
       "20  22/01/2024  SNU7E09  61422726388  243934970494  012.297.994-00   \n",
       "21  19/01/2024  SNU7H48  09142101460  243933436338  066.253.524-38   \n",
       "22  19/01/2024  SNU7H48  09142101460  243933436338  066.253.524-38   \n",
       "23  19/01/2024  SNU7H98  61540160675  243933438233  976.538.294-49   \n",
       "24  19/01/2024  SNU7H98  61540160675  243933438233  976.538.294-49   \n",
       "\n",
       "                                   nome quantidade_passageiro  valor_unitario  \n",
       "15            GILMAR CARDOSO DE ARANTES                   02P              60  \n",
       "16            GILMAR CARDOSO DE ARANTES                   02P              60  \n",
       "19       NATANAEL BARNABE DA SILVA NETO                   02P              60  \n",
       "20       NATANAEL BARNABE DA SILVA NETO                   02P              60  \n",
       "21  DANIELE DE FATIMA DE ALMEIDA AGUIAR                   02P              60  \n",
       "22  DANIELE DE FATIMA DE ALMEIDA AGUIAR                   02P              60  \n",
       "23              WILSON MEDEIROS E SILVA                   02P              60  \n",
       "24              WILSON MEDEIROS E SILVA                   02P              60  "
      ]
     },
     "metadata": {},
     "output_type": "display_data"
    }
   ],
   "source": [
    "# Identificar a placa repetida\n",
    "placas_repetidas = tabela_rivaldo[tabela_rivaldo.duplicated(subset='placas', keep=False)]\n",
    "print(placas_repetidas.index)\n",
    "display(placas_repetidas.head(8))"
   ]
  },
  {
   "cell_type": "code",
   "execution_count": 17,
   "id": "004bce66",
   "metadata": {},
   "outputs": [
    {
     "data": {
      "text/plain": [
       "42"
      ]
     },
     "execution_count": 17,
     "metadata": {},
     "output_type": "execute_result"
    }
   ],
   "source": [
    "len(placas_repetidas)"
   ]
  },
  {
   "cell_type": "markdown",
   "id": "d17e8acf",
   "metadata": {},
   "source": [
    "### Remover Linhas Duplicadas\n",
    "\n",
    "Nesta célula, removemos as linhas duplicadas com base na coluna \"placas\" do DataFrame `tabela_rivaldo` e redefinimos os índices.\n",
    "\n",
    "```python\n",
    "tabela_rivaldo = tabela_rivaldo.drop_duplicates(subset=['placas'], keep='first', ignore_index=True)\n"
   ]
  },
  {
   "cell_type": "code",
   "execution_count": 18,
   "id": "e76635ae",
   "metadata": {},
   "outputs": [],
   "source": [
    "tabela_rivaldo = tabela_rivaldo.drop_duplicates(subset= ['placas'], keep='first', ignore_index=True)"
   ]
  },
  {
   "cell_type": "code",
   "execution_count": 19,
   "id": "1780a5b2",
   "metadata": {},
   "outputs": [
    {
     "data": {
      "text/plain": [
       "(78, 8)"
      ]
     },
     "execution_count": 19,
     "metadata": {},
     "output_type": "execute_result"
    }
   ],
   "source": [
    "# tamanho da tabela depois de tirar a duplicidade\n",
    "tabela_rivaldo.shape"
   ]
  },
  {
   "cell_type": "code",
   "execution_count": 20,
   "id": "50b40bb8",
   "metadata": {},
   "outputs": [],
   "source": [
    "# Verificar noavmente se tem Linhas Duplicadas\n",
    "duplicada = tabela_rivaldo.placas.duplicated()"
   ]
  },
  {
   "cell_type": "code",
   "execution_count": 21,
   "id": "1b479e9e",
   "metadata": {},
   "outputs": [
    {
     "data": {
      "text/plain": [
       "placas\n",
       "False    78\n",
       "Name: count, dtype: int64"
      ]
     },
     "execution_count": 21,
     "metadata": {},
     "output_type": "execute_result"
    }
   ],
   "source": [
    "# agora nao achamos nenhuma duplicada caso tivesse tinhamos 'True' > 0\n",
    "duplicada.value_counts()"
   ]
  },
  {
   "cell_type": "markdown",
   "id": "b9369418",
   "metadata": {},
   "source": [
    "### Calcular Faturamento Mensal\n",
    "\n",
    "Nesta célula, calculamos o faturamento total mensal com base no valor unitário do DataFrame `tabela_rivaldo` e imprimimos o resultado formatado em reais."
   ]
  },
  {
   "cell_type": "code",
   "execution_count": 22,
   "id": "fdad0261",
   "metadata": {},
   "outputs": [
    {
     "name": "stdout",
     "output_type": "stream",
     "text": [
      "O faturamento mensal foi de R$ 4,770.00\n"
     ]
    }
   ],
   "source": [
    "faturamento = tabela_rivaldo.valor_unitario.sum()\n",
    "print(f'O faturamento mensal foi de R$ {faturamento:,.2f}')"
   ]
  },
  {
   "cell_type": "markdown",
   "id": "4a17ff14",
   "metadata": {},
   "source": [
    "### Contar Quantidade de Placas\n",
    "\n",
    "Nesta célula, contamos a quantidade de placas únicas no DataFrame `tabela_rivaldo` e imprimimos o resultado."
   ]
  },
  {
   "cell_type": "code",
   "execution_count": 23,
   "id": "d8c387da",
   "metadata": {},
   "outputs": [
    {
     "name": "stdout",
     "output_type": "stream",
     "text": [
      "Quantidade de placas 78\n"
     ]
    }
   ],
   "source": [
    "quantidade = tabela_rivaldo.placas.count()\n",
    "print(f'Quantidade de placas {quantidade}')"
   ]
  },
  {
   "cell_type": "code",
   "execution_count": 25,
   "id": "63ac5d56",
   "metadata": {},
   "outputs": [],
   "source": [
    "# Salvar DataFrame em Excel\n",
    "# Nesta célula, salvamos o DataFrame `tabela_rivaldo` em um arquivo Excel \n",
    "#chamado \"output.xlsx\", sem incluir o índice.\n",
    "tabela_rivaldo.to_excel('output.xlsx', index=False)"
   ]
  }
 ],
 "metadata": {
  "kernelspec": {
   "display_name": "Python 3 (ipykernel)",
   "language": "python",
   "name": "python3"
  },
  "language_info": {
   "codemirror_mode": {
    "name": "ipython",
    "version": 3
   },
   "file_extension": ".py",
   "mimetype": "text/x-python",
   "name": "python",
   "nbconvert_exporter": "python",
   "pygments_lexer": "ipython3",
   "version": "3.11.5"
  }
 },
 "nbformat": 4,
 "nbformat_minor": 5
}
